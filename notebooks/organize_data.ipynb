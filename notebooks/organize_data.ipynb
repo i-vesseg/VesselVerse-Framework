{
 "cells": [
  {
   "cell_type": "code",
   "execution_count": 15,
   "metadata": {},
   "outputs": [],
   "source": [
    "import os"
   ]
  },
  {
   "cell_type": "code",
   "execution_count": null,
   "metadata": {},
   "outputs": [],
   "source": [
    "# Go back 2 directories\n",
    "if os.getcwd().endswith('notebooks'):\n",
    "    os.chdir(os.path.join(os.getcwd(), '../../Vesselverse_IXI/data'))"
   ]
  },
  {
   "cell_type": "code",
   "execution_count": null,
   "metadata": {},
   "outputs": [],
   "source": [
    "import os\n",
    "import re\n",
    "\n",
    "for data_dir in os.listdir():\n",
    "    if not os.path.isdir(data_dir):\n",
    "        continue\n",
    "\n",
    "    print(f\"Processing directory: {data_dir}\")\n",
    "\n",
    "    for file in os.listdir(data_dir):\n",
    "        if not file.endswith('.nii.gz'):\n",
    "            continue\n",
    "\n",
    "        # Extract the ID using regex (first 6 alphanumeric characters)\n",
    "        file_regez = file[9:] if file.startswith('restored_') else file\n",
    "        \n",
    "        match = re.match(r\"([A-Za-z0-9]{6})\", file_regez)\n",
    "        if not match:\n",
    "            print(f\"Skipping {file} (filename does not contain a valid ID)\")\n",
    "            continue\n",
    "\n",
    "        ID = match.group(1)\n",
    "        if not ID.startswith('IXI'):\n",
    "            print(f\"Invalid ID ({ID}) for file {file}\")\n",
    "            continue\n",
    "\n",
    "        # Create target directory for the ID\n",
    "        target_dir = os.path.join(data_dir, ID)\n",
    "        os.makedirs(target_dir, exist_ok=True)\n",
    "\n",
    "        # Move the file\n",
    "        src = os.path.join(data_dir, file)\n",
    "        dst = os.path.join(target_dir, file)\n",
    "\n",
    "        try:\n",
    "            os.rename(src, dst)\n",
    "            print(f\"Moved {file} → {target_dir}/\")\n",
    "        except Exception as e:\n",
    "            print(f\"Error moving {file}: {e}\")\n",
    "            \n",
    "    print(\"Done!\\n\")\n"
   ]
  },
  {
   "cell_type": "code",
   "execution_count": null,
   "metadata": {},
   "outputs": [],
   "source": [
    "import os\n",
    "import re\n",
    "\n",
    "def check_nii_files(directory):\n",
    "    for root, _, files in os.walk(directory):\n",
    "        for file in files:\n",
    "            if file.endswith('.nii.gz'):\n",
    "                # Extract ID using regex (first 6 alphanumeric characters)\n",
    "                \n",
    "                file_regez = file[9:] if file.startswith('restored_') else file\n",
    "                match = re.match(r\"([A-Za-z0-9]{6})\", file_regez)\n",
    "                if not match:\n",
    "                    print(f\"⚠️  Skipping {file} (filename does not contain a valid ID)\")\n",
    "                    continue\n",
    "                \n",
    "                expected_id = match.group(1)\n",
    "                assert expected_id.startswith('IXI'), f\"Invalid ID: {expected_id}\"\n",
    "                parent_folder = os.path.basename(root)\n",
    "\n",
    "                # Check if the parent folder matches the extracted ID\n",
    "                if parent_folder != expected_id:\n",
    "                    print(f\"🚨 Mismatch: {file} is inside '{parent_folder}', expected '{expected_id}'\")\n",
    "                   \n",
    "    print(f\"If no errors were printed, all files are correctly placed.\") \n",
    "    print(\"✅ Done!\")\n",
    "\n",
    "# Run the check from the current working directory\n",
    "check_nii_files(\".\")\n"
   ]
  },
  {
   "cell_type": "code",
   "execution_count": null,
   "metadata": {},
   "outputs": [],
   "source": []
  }
 ],
 "metadata": {
  "kernelspec": {
   "display_name": "venvverse",
   "language": "python",
   "name": "python3"
  },
  "language_info": {
   "codemirror_mode": {
    "name": "ipython",
    "version": 3
   },
   "file_extension": ".py",
   "mimetype": "text/x-python",
   "name": "python",
   "nbconvert_exporter": "python",
   "pygments_lexer": "ipython3",
   "version": "3.10.12"
  }
 },
 "nbformat": 4,
 "nbformat_minor": 2
}

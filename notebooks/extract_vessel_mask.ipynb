{
 "cells": [
  {
   "cell_type": "code",
   "execution_count": null,
   "metadata": {},
   "outputs": [],
   "source": [
    "import os\n",
    "\n",
    "os.getcwd()"
   ]
  },
  {
   "cell_type": "code",
   "execution_count": null,
   "metadata": {},
   "outputs": [],
   "source": [
    "if os.getcwd().endswith(\"notebooks\"):\n",
    "    os.chdir(\"../../\")"
   ]
  },
  {
   "cell_type": "code",
   "execution_count": null,
   "metadata": {},
   "outputs": [],
   "source": [
    "A2V_path = 'VESSELVERSE_DATA_COW'"
   ]
  },
  {
   "cell_type": "code",
   "execution_count": null,
   "metadata": {},
   "outputs": [],
   "source": [
    "import os\n",
    "import nibabel as nib\n",
    "import numpy as np\n",
    "\n",
    "def process_pred_files(root_dir):\n",
    "    \n",
    "    for dirpath, dirnames, filenames in os.walk(root_dir):\n",
    "        for img in sorted(filenames):\n",
    "            if img.endswith('_pred.nii.gz'):\n",
    "                img_path = os.path.join(dirpath, img)\n",
    "                output_path = os.path.join(dirpath, img.replace('_pred', ''))\n",
    "                \n",
    "                if os.path.exists(output_path):\n",
    "                    #print(f\"Skipping {img}\")\n",
    "                    continue\n",
    "                \n",
    "                # Open the image\n",
    "                img_nii = nib.load(img_path)\n",
    "                img_data = img_nii.get_fdata()\n",
    "                \n",
    "                # Create vessel mask (2 -> 1, everything else -> 0)\n",
    "                vessel_mask = np.zeros_like(img_data)\n",
    "                vessel_mask[np.isclose(img_data, 2)] = 1\n",
    "                \n",
    "                if not np.sum(vessel_mask) > 0:\n",
    "                    print(f\"WARNING: {img} does not contain any vessels\")\n",
    "                else:\n",
    "                    # Save the new mask\n",
    "                    vessel_mask_nii = nib.Nifti1Image(vessel_mask, img_nii.affine)\n",
    "                    print(f\"Saving {output_path}\")\n",
    "                    nib.save(vessel_mask_nii, output_path)\n",
    "                    print(f\"Removing {img_path}\")\n",
    "                    #os.remove(img_path)\n",
    "\n",
    "# Use the function\n",
    "process_pred_files(A2V_path)\n",
    "        "
   ]
  },
  {
   "cell_type": "code",
   "execution_count": null,
   "metadata": {},
   "outputs": [],
   "source": []
  }
 ],
 "metadata": {
  "kernelspec": {
   "display_name": "venvverse",
   "language": "python",
   "name": "python3"
  },
  "language_info": {
   "codemirror_mode": {
    "name": "ipython",
    "version": 3
   },
   "file_extension": ".py",
   "mimetype": "text/x-python",
   "name": "python",
   "nbconvert_exporter": "python",
   "pygments_lexer": "ipython3",
   "version": "3.10.12"
  }
 },
 "nbformat": 4,
 "nbformat_minor": 2
}
